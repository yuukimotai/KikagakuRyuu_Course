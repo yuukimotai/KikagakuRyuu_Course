{
  "nbformat": 4,
  "nbformat_minor": 0,
  "metadata": {
    "colab": {
      "provenance": [],
      "authorship_tag": "ABX9TyPzSC0iC+nMaEseJ8YBiahw",
      "include_colab_link": true
    },
    "kernelspec": {
      "name": "python3",
      "display_name": "Python 3"
    },
    "language_info": {
      "name": "python"
    }
  },
  "cells": [
    {
      "cell_type": "markdown",
      "metadata": {
        "id": "view-in-github",
        "colab_type": "text"
      },
      "source": [
        "<a href=\"https://colab.research.google.com/github/yuukimotai/KikagakuRyuu_Course/blob/main/kikagakuryuu_intermediate_section7.ipynb\" target=\"_parent\"><img src=\"https://colab.research.google.com/assets/colab-badge.svg\" alt=\"Open In Colab\"/></a>"
      ]
    },
    {
      "cell_type": "markdown",
      "source": [
        "# 統計\n",
        "主な統計量  \n",
        "・平均  \n",
        "→$ \\frac{1}{N}∑ x_n $  \n",
        "<br>\n",
        "・分散（scatter）  \n",
        "$\\sigma^2 = \\frac{1}{N}∑(x_n - \\bar{x})^2 →\\bar{x}は平均$  \n",
        "$\\frac{1}{N}→母分数$/\n",
        "$\\frac{1}{N - 1}→標本分散$  \n",
        "<br>\n",
        "・標準偏差\n",
        "$$ \\sigma = \\sqrt{\\sigma^2}$$\n",
        "→データのばらつき、定量評価を見る"
      ],
      "metadata": {
        "id": "VfFX5ZIbg1dC"
      }
    },
    {
      "cell_type": "markdown",
      "source": [
        "①[-2, -1, 0, 1, 2]  \n",
        "②[-4, -2, 0, 2, 4]  \n",
        "この2つの集団の平均、分散、標準偏差を求めるとどうなるか（手計算）"
      ],
      "metadata": {
        "id": "5hJr3XohlhD0"
      }
    },
    {
      "cell_type": "markdown",
      "source": [
        "# 正規分布と3σ法\n",
        "使用する理由.  \n",
        "・数式として扱いやすい.  \n",
        "・物理現象に出てくる.  \n",
        "https://avilen.co.jp/personal/knowledge-article/normal-distribution/  \n",
        "**製造業の異常検知画像認識などで3σ法が使われる**"
      ],
      "metadata": {
        "id": "__sfqVLJmHhh"
      }
    },
    {
      "cell_type": "markdown",
      "source": [
        "# スケーリング\n",
        "$$ {\\widehat y} = \\sum({w_n x_n}) + b$$\n",
        "## スタンダードスケーリング(データの標準化)\n",
        "$$x_s = \\frac{x - \\bar{x}}{\\sigma}$$\n",
        "$ \\bar{x}: 平均、\\sigma = 標準偏差$→平均=0, 標準偏差＝1になる"
      ],
      "metadata": {
        "id": "5hGf3BA00R-g"
      }
    },
    {
      "cell_type": "code",
      "execution_count": null,
      "metadata": {
        "id": "e8QI1bmzgw9A"
      },
      "outputs": [],
      "source": []
    }
  ]
}