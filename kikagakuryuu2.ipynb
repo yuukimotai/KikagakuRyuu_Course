{
  "nbformat": 4,
  "nbformat_minor": 0,
  "metadata": {
    "colab": {
      "provenance": [],
      "authorship_tag": "ABX9TyNTIoq77lS8zmI1K14xrjWB",
      "include_colab_link": true
    },
    "kernelspec": {
      "name": "python3",
      "display_name": "Python 3"
    },
    "language_info": {
      "name": "python"
    }
  },
  "cells": [
    {
      "cell_type": "markdown",
      "metadata": {
        "id": "view-in-github",
        "colab_type": "text"
      },
      "source": [
        "<a href=\"https://colab.research.google.com/github/yuukimotai/KikagakuRyuu_Course/blob/main/kikagakuryuu2.ipynb\" target=\"_parent\"><img src=\"https://colab.research.google.com/assets/colab-badge.svg\" alt=\"Open In Colab\"/></a>"
      ]
    },
    {
      "cell_type": "markdown",
      "source": [
        "### キカガク流　中級\n",
        "スカラー変数: 小文字、細文字(x)  \n",
        "スカラー定数: 大文字、細文字(N)  \n",
        "ベクトル: 小文字、太文字$(\\boldsymbol{x})$  \n",
        "行列: 大文字、太文字$(\\boldsymbol{X})$\n",
        "として表現する。"
      ],
      "metadata": {
        "id": "7aPwExMMXlH5"
      }
    },
    {
      "cell_type": "code",
      "source": [
        "import numpy as np\n",
        "\n",
        "a = np.array([1,2,3])\n",
        "b = np.array([4,5,6])\n",
        "print(a+b)\n",
        "print()\n",
        "print(a*b)\n",
        "\n",
        "print(a.T, b.T)"
      ],
      "metadata": {
        "colab": {
          "base_uri": "https://localhost:8080/"
        },
        "id": "YRcjjN-UYBDV",
        "outputId": "adace922-bda7-462c-8ea6-3f5a7f573119"
      },
      "execution_count": null,
      "outputs": [
        {
          "output_type": "stream",
          "name": "stdout",
          "text": [
            "[5 7 9]\n",
            "\n",
            "[ 4 10 18]\n",
            "[1 2 3] [4 5 6]\n",
            "[1 2 3] [4 5 6]\n"
          ]
        }
      ]
    },
    {
      "cell_type": "code",
      "source": [
        "a1 = np.array([[1,2],[3,4]])\n",
        "b2 = np.array([[5,6],[7,8]])\n",
        "print(np.dot(a1,b2))# 要、手計算の順番"
      ],
      "metadata": {
        "colab": {
          "base_uri": "https://localhost:8080/"
        },
        "id": "cUSgeTF5YA__",
        "outputId": "4e40b40c-b49a-4707-e465-b497f2d6901e"
      },
      "execution_count": null,
      "outputs": [
        {
          "output_type": "stream",
          "name": "stdout",
          "text": [
            "[[19 22]\n",
            " [43 50]]\n"
          ]
        }
      ]
    },
    {
      "cell_type": "markdown",
      "source": [
        "## 行列積が成り立つ条件\n",
        "(N×M) (O×P)　という行列積の場合、\n",
        "MとOが等しいことが条件。\n",
        "結果はN×Pの行列として取得される"
      ],
      "metadata": {
        "id": "n1ElII6GguVB"
      }
    },
    {
      "cell_type": "code",
      "execution_count": null,
      "metadata": {
        "colab": {
          "base_uri": "https://localhost:8080/"
        },
        "id": "DARWK-86Xhxs",
        "outputId": "e8963e37-16e9-419a-f1bb-31e9fc4eb5e9"
      },
      "outputs": [
        {
          "output_type": "stream",
          "name": "stdout",
          "text": [
            "[[1. 0.]\n",
            " [0. 1.]]\n"
          ]
        }
      ],
      "source": [
        "eye1 = np.eye(2)\n",
        "print(eye1)"
      ]
    },
    {
      "cell_type": "markdown",
      "source": [
        "## ベクトルで微分\n",
        "$$(1)\\frac{\\partial}{\\partial\\boldsymbol{x}}(c) = \\boldsymbol{0}(ゼロベクトル)$$\n",
        "$$(2)\\frac{\\partial}{\\partial\\boldsymbol{x}}(\\boldsymbol{b}^{T}x) = \\boldsymbol{b}$$\n",
        "$$(3)\\frac{\\partial}{\\partial\\boldsymbol{x}}(\\boldsymbol{x}^{T}A\\boldsymbol{x}) = (A + A^{T})\\boldsymbol{x}$$"
      ],
      "metadata": {
        "id": "QXcQ_gqFhUcx"
      }
    },
    {
      "cell_type": "code",
      "source": [],
      "metadata": {
        "id": "skXvdUR6_5Pn"
      },
      "execution_count": null,
      "outputs": []
    },
    {
      "cell_type": "markdown",
      "source": [
        "###モデルを決める\n",
        "動画の例\n",
        "家賃(y) - ひろさ(x1),距離(x2)...治安(xm)  \n",
        "${\\hat y} = (w_1x_1 + w_2x_2 + .... + w_mx_m) + b(x_0)$\n",
        "$$\n",
        "\\begin{bmatrix}\n",
        "x_0 & x_1 & \\cdots & x_m\n",
        "\\end{bmatrix}\n",
        "\\begin{bmatrix}\n",
        "w_0 \\\\ w_1 \\\\ \\vdots \\\\ w_m\n",
        "\\end{bmatrix}\n",
        "= \\boldsymbol{x}^{T}\\boldsymbol{W}\n",
        " $$"
      ],
      "metadata": {
        "id": "Zcq_2_yM_7K3"
      }
    },
    {
      "cell_type": "markdown",
      "source": [
        "### 評価関数を決める\n",
        "$$(実測値-予測値)^2$$\n",
        "$$ \\boldsymbol{L} = \\sum{(y_n - \\widehat y)^2}$$\n",
        "$$=(\\boldsymbol{y}-\\boldsymbol{ \\widehat y})^{T}(\\boldsymbol{y}-\\boldsymbol{ \\widehat y})$$"
      ],
      "metadata": {
        "id": "cC3iYcalDyoB"
      }
    },
    {
      "cell_type": "markdown",
      "source": [
        "### 評価関数(誤差)\n",
        "$$\n",
        "{\\widehat{y}}=\n",
        "\\begin{bmatrix}\n",
        "{\\hat{y_1}} \\\\\n",
        "{\\hat{y_2}} \\\\\n",
        "{\\hat{y_3}} \\\\\n",
        "\\vdots \\\\\n",
        "{\\widehat y_m}\n",
        "\\end{bmatrix}\n",
        "=\n",
        "\\begin{bmatrix}\n",
        "{x_1^TW} \\\\\n",
        "{x_2^TW} \\\\\n",
        "{x_3^TW} \\\\\n",
        "\\vdots \\\\\n",
        "{x_m^TW}\n",
        "\\end{bmatrix}\n",
        "=\n",
        "\\begin{bmatrix}\n",
        "{x_1^T} \\\\\n",
        "{x_2^T} \\\\\n",
        "{x_3^T} \\\\\n",
        "\\vdots \\\\\n",
        "{x_m^T}\n",
        "\\end{bmatrix}\n",
        "W\n",
        "=\n",
        "\\begin{bmatrix}\n",
        "x_{10} & x_{11} & x_{12} & \\cdots & x_{1m} \\\\\n",
        "x_{20} & x_{21} & x_{22} & \\cdots & x_{2m} \\\\\n",
        "x_{20} & x_{21} & x_{22} & \\cdots & x_{3m} \\\\\n",
        "\\vdots & \\vdots  & \\vdots & \\ddots & \\vdots\\\\\n",
        "x_{n0} & x_{n1} & x_{n3} & \\cdots & x_{nm} \\\\\n",
        "\\end{bmatrix}\n",
        "= X\\boldsymbol{W}\n",
        " $$\n",
        "\n",
        " $$ {\\hat y} = (y - {Xw})^T(y - {Xw})\n",
        " = {\\hat y} = [(y^T - ({Xw})^T)](y - {Xw})$$\n",
        " $$L = y^Ty - 2y^TXW + W^TX^TXW$$\n",
        " 上記の式について、微分する際はWに着目する。\n",
        " そうすると、以下のような式にまとめられる。  \n",
        " ※行列のサイズ感の項参照\n",
        " $$ = C + b^TW + W^TAW$$\n"
      ],
      "metadata": {
        "id": "WlPYsZAKHxFg"
      }
    },
    {
      "cell_type": "markdown",
      "source": [
        "上記の式を使って微分する場合、以下のようになる。\n",
        "$$\\frac{\\partial}{\\partial{W}}(L)=0$$\n",
        "$$→\\frac{\\partial}{\\partial{W}}(C + b^TW + W^TAW)=0$$\n",
        "$$→\\frac{\\partial}{\\partial{W}}(C) + \\frac{\\partial}{\\partial{W}}(b^TW) + \\frac{\\partial}{\\partial{W}}(W^TAW)$$\n",
        "$$→ -2X^Ty + {X^TX + (X^TX)^T}W = 0$$\n",
        "$$→ -2X^Ty + 2X^TXW = 0$$\n",
        "$$→ 2X^TXW = 2X^Ty$$\n",
        "$$I = (X^TX)^{-1} として両辺にかける$$\n",
        "$$→IW = IX^Ty$$\n",
        "$$→ W = (X^TX)^{-1}X^Ty$$\n",
        "#### 多重共線性に注意"
      ],
      "metadata": {
        "id": "ilzs9RbW_HVI"
      }
    },
    {
      "cell_type": "code",
      "source": [],
      "metadata": {
        "id": "OKOqLEvM-06p"
      },
      "execution_count": null,
      "outputs": []
    },
    {
      "cell_type": "code",
      "source": [],
      "metadata": {
        "id": "-em2ggzg-x6F"
      },
      "execution_count": null,
      "outputs": []
    }
  ]
}